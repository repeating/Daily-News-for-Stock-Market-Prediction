{
 "cells": [
  {
   "cell_type": "code",
   "execution_count": 5,
   "metadata": {
    "pycharm": {
     "name": "#%%\n"
    }
   },
   "outputs": [],
   "source": [
    "!python -m spacy download en"
   ]
  },
  {
   "cell_type": "code",
   "execution_count": 6,
   "metadata": {
    "pycharm": {
     "name": "#%%\n"
    }
   },
   "outputs": [],
   "source": [
    "from sklearn.metrics import accuracy_score, confusion_matrix, plot_confusion_matrix\n",
    "from gensim.corpora import Dictionary\n",
    "import pandas as pd\n",
    "from sklearn.feature_extraction.text import TfidfVectorizer\n",
    "import matplotlib.pyplot as plt\n",
    "import spacy\n",
    "from sklearn.linear_model import SGDClassifier\n",
    "from sklearn.model_selection import train_test_split\n",
    "from sklearn.preprocessing import LabelEncoder\n",
    "from gensim.models import LdaModel\n",
    "import pyLDAvis.gensim_models\n",
    "from sklearn.model_selection import GridSearchCV\n",
    "import torch.nn as nn\n",
    "from tqdm.notebook import tqdm\n",
    "import random\n",
    "import numpy as np\n",
    "import torch"
   ]
  },
  {
   "cell_type": "code",
   "execution_count": 7,
   "metadata": {
    "pycharm": {
     "name": "#%%\n"
    }
   },
   "outputs": [],
   "source": [
    "data = []\n",
    "with open('datasets/text.txt') as f:\n",
    "    for line in f.readlines():\n",
    "        text, emotion = line.strip().split(';')\n",
    "        data.append({'text': text, 'emotion': emotion})\n",
    "data = pd.DataFrame(data)"
   ]
  },
  {
   "cell_type": "code",
   "execution_count": 8,
   "metadata": {
    "pycharm": {
     "name": "#%%\n"
    }
   },
   "outputs": [
    {
     "name": "stdout",
     "output_type": "stream",
     "text": [
      "number of samples: 20000\n"
     ]
    },
    {
     "data": {
      "text/plain": "                                                text   emotion\n0                            i didnt feel humiliated   sadness\n1  i can go from feeling so hopeless to so damned...   sadness\n2   im grabbing a minute to post i feel greedy wrong     anger\n3  i am ever feeling nostalgic about the fireplac...      love\n4                               i am feeling grouchy     anger\n5  ive been feeling a little burdened lately wasn...   sadness\n6  ive been taking or milligrams or times recomme...  surprise\n7  i feel as confused about life as a teenager or...      fear\n8  i have been with petronas for years i feel tha...       joy\n9                                i feel romantic too      love",
      "text/html": "<div>\n<style scoped>\n    .dataframe tbody tr th:only-of-type {\n        vertical-align: middle;\n    }\n\n    .dataframe tbody tr th {\n        vertical-align: top;\n    }\n\n    .dataframe thead th {\n        text-align: right;\n    }\n</style>\n<table border=\"1\" class=\"dataframe\">\n  <thead>\n    <tr style=\"text-align: right;\">\n      <th></th>\n      <th>text</th>\n      <th>emotion</th>\n    </tr>\n  </thead>\n  <tbody>\n    <tr>\n      <th>0</th>\n      <td>i didnt feel humiliated</td>\n      <td>sadness</td>\n    </tr>\n    <tr>\n      <th>1</th>\n      <td>i can go from feeling so hopeless to so damned...</td>\n      <td>sadness</td>\n    </tr>\n    <tr>\n      <th>2</th>\n      <td>im grabbing a minute to post i feel greedy wrong</td>\n      <td>anger</td>\n    </tr>\n    <tr>\n      <th>3</th>\n      <td>i am ever feeling nostalgic about the fireplac...</td>\n      <td>love</td>\n    </tr>\n    <tr>\n      <th>4</th>\n      <td>i am feeling grouchy</td>\n      <td>anger</td>\n    </tr>\n    <tr>\n      <th>5</th>\n      <td>ive been feeling a little burdened lately wasn...</td>\n      <td>sadness</td>\n    </tr>\n    <tr>\n      <th>6</th>\n      <td>ive been taking or milligrams or times recomme...</td>\n      <td>surprise</td>\n    </tr>\n    <tr>\n      <th>7</th>\n      <td>i feel as confused about life as a teenager or...</td>\n      <td>fear</td>\n    </tr>\n    <tr>\n      <th>8</th>\n      <td>i have been with petronas for years i feel tha...</td>\n      <td>joy</td>\n    </tr>\n    <tr>\n      <th>9</th>\n      <td>i feel romantic too</td>\n      <td>love</td>\n    </tr>\n  </tbody>\n</table>\n</div>"
     },
     "execution_count": 8,
     "metadata": {},
     "output_type": "execute_result"
    }
   ],
   "source": [
    "print('number of samples:', len(data))\n",
    "data.head(10)"
   ]
  },
  {
   "cell_type": "code",
   "execution_count": 9,
   "metadata": {
    "pycharm": {
     "name": "#%%\n"
    }
   },
   "outputs": [
    {
     "name": "stdout",
     "output_type": "stream",
     "text": [
      "set of unique emotions: ['sadness' 'anger' 'love' 'surprise' 'fear' 'joy']\n"
     ]
    },
    {
     "data": {
      "text/plain": "<Figure size 432x288 with 1 Axes>",
      "image/png": "[encoded data removed]"
     },
     "metadata": {
      "needs_background": "light"
     },
     "output_type": "display_data"
    }
   ],
   "source": [
    "n_classes = len(set(data['emotion']))\n",
    "print('number of different classes:', n_classes)\n",
    "print('set of unique emotions:', data['emotion'].unique())\n",
    "plt.hist(data['emotion'])\n",
    "plt.title('number of samples per emotion')\n",
    "plt.show()"
   ]
  },
  {
   "cell_type": "code",
   "execution_count": 10,
   "metadata": {},
   "outputs": [
    {
     "name": "stdout",
     "output_type": "stream",
     "text": [
      "Removing punctuation and converting to lowercase..\n"
     ]
    }
   ],
   "source": [
    "def text_reformat(text):\n",
    "    \"\"\"lowercase without punctuation\"\"\"\n",
    "    import re\n",
    "    return re.sub(r'[^\\w\\s]', '', text.lower())\n",
    "\n",
    "print('Removing punctuation and converting to lowercase..')\n",
    "data['text'] = data['text'].apply(text_reformat)"
   ]
  },
  {
   "cell_type": "code",
   "execution_count": 11,
   "metadata": {},
   "outputs": [
    {
     "data": {
      "text/plain": "<BarContainer object of 2 artists>"
     },
     "execution_count": 11,
     "metadata": {},
     "output_type": "execute_result"
    },
    {
     "data": {
      "text/plain": "<Figure size 432x288 with 1 Axes>",
      "image/png": "[encoded data removed]"
     },
     "metadata": {
      "needs_background": "light"
     },
     "output_type": "display_data"
    }
   ],
   "source": [
    "plt.title('average number of tokens per emotion')\n",
    "plt.bar(['joy', 'anger'], [10, 20])"
   ]
  },
  {
   "cell_type": "code",
   "execution_count": 12,
   "metadata": {},
   "outputs": [
    {
     "data": {
      "text/plain": "tokenize:   0%|          | 0/20000 [00:00<?, ?it/s]",
      "application/vnd.jupyter.widget-view+json": {
       "version_major": 2,
       "version_minor": 0,
       "model_id": "848e2aaa1e744fe2a4fefb588db8231a"
      }
     },
     "metadata": {},
     "output_type": "display_data"
    },
    {
     "name": "stdout",
     "output_type": "stream",
     "text": [
      "Before tokenizing: nick likes to play football however he is not too fond of tennis\n",
      "After tokenizing: ['nick', 'likes', 'play', 'football', 'fond', 'tennis']\n"
     ]
    }
   ],
   "source": [
    "\"\"\"tokenize and lemmatize text, and remove stopwords\"\"\"\n",
    "nlp = spacy.load(\"en_core_web_sm\", disable=['parser', 'ner'])\n",
    "all_stopwords = spacy.lang.en.stop_words.STOP_WORDS\n",
    "\n",
    "def tokens(s: str):\n",
    "    return [t.text for t in nlp(s) if t.text not in all_stopwords]\n",
    "\n",
    "text_tokens = [tokens(t) for t in tqdm(data['text'], desc=\"tokenize\")]\n",
    "data.insert(2, 'text_tokens', text_tokens)\n",
    "\n",
    "example = \"nick likes to play football however he is not too fond of tennis\"\n",
    "example_tokens = tokens(example)\n",
    "\n",
    "print('Before tokenizing:', example)\n",
    "print('After tokenizing:', example_tokens)"
   ]
  },
  {
   "cell_type": "code",
   "execution_count": 13,
   "metadata": {},
   "outputs": [
    {
     "name": "stdout",
     "output_type": "stream",
     "text": [
      "average number of tokens in a document: 8.3312\n",
      "[8.053993444885286, 8.338501291989663, 8.896404631322364, 8.58692628650904, 8.200168563000421, 8.447566927969236]\n"
     ]
    },
    {
     "data": {
      "text/plain": "<Figure size 432x288 with 1 Axes>",
      "image/png": "[encoded data removed]"
     },
     "metadata": {
      "needs_background": "light"
     },
     "output_type": "display_data"
    }
   ],
   "source": [
    "avg_num_tokens = sum(len(t) for t in text_tokens) / len(text_tokens)\n",
    "\n",
    "print('average number of tokens in a document:', avg_num_tokens)\n",
    "\n",
    "avg_tokens = []\n",
    "for emotion in data['emotion'].unique():\n",
    "    df = data[data['emotion'] == emotion]\n",
    "    avg_tokens.append(sum(len(x) for x in df['text_tokens'].tolist()) / len(df))\n",
    "print(avg_tokens)\n",
    "\n",
    "plt.title('average number of tokens per emotion')\n",
    "plt.bar(data['emotion'].unique(), avg_tokens)\n",
    "plt.show()"
   ]
  },
  {
   "cell_type": "code",
   "execution_count": 14,
   "metadata": {
    "pycharm": {
     "name": "#%%\n"
    }
   },
   "outputs": [
    {
     "name": "stdout",
     "output_type": "stream",
     "text": [
      "dictionary word with index 20: little\n"
     ]
    }
   ],
   "source": [
    "# Create a dictionary representation of the documents.\n",
    "dictionary = Dictionary(text_tokens)\n",
    "\n",
    "# Filter out words that occur less than in 5 documents, or more than in 50% of the documents.\n",
    "dictionary.filter_extremes(no_below=5, no_above=0.5)\n",
    "print(\"dictionary word with index 20:\", dictionary[20])"
   ]
  },
  {
   "cell_type": "code",
   "execution_count": 15,
   "metadata": {
    "pycharm": {
     "name": "#%%\n"
    }
   },
   "outputs": [
    {
     "name": "stdout",
     "output_type": "stream",
     "text": [
      "Example of BOW representation: [(0, 1), (1, 1)]\n",
      "Number of unique tokens: 3648\n",
      "Number of documents: 20000\n"
     ]
    }
   ],
   "source": [
    "# Convert tokenized documents into bag-of-words (BOW) representation: (word index, word count)\n",
    "corpus = [dictionary.doc2bow(doc) for doc in text_tokens]\n",
    "print(\"Example of BOW representation:\", corpus[0])\n",
    "print('Number of unique tokens:', len(dictionary))\n",
    "print('Number of documents:', len(corpus))#%%"
   ]
  },
  {
   "cell_type": "code",
   "execution_count": 16,
   "metadata": {
    "pycharm": {
     "name": "#%%\n"
    }
   },
   "outputs": [
    {
     "name": "stdout",
     "output_type": "stream",
     "text": [
      "LDA topics:\n"
     ]
    },
    {
     "data": {
      "text/plain": "[(0,\n  '0.056*\"like\" + 0.027*\"nt\" + 0.021*\"m\" + 0.019*\"people\" + 0.014*\"know\" + 0.014*\"s\" + 0.011*\"think\" + 0.011*\"want\" + 0.008*\"feels\" + 0.008*\"things\"'),\n (1,\n  '0.048*\"t\" + 0.040*\"like\" + 0.025*\"know\" + 0.024*\"nt\" + 0.021*\"don\" + 0.015*\"want\" + 0.015*\"love\" + 0.014*\"s\" + 0.012*\"feelings\" + 0.011*\"look\"'),\n (2,\n  '0.044*\"feeling\" + 0.033*\"m\" + 0.033*\"like\" + 0.024*\"nt\" + 0.012*\"going\" + 0.010*\"time\" + 0.009*\"find\" + 0.009*\"things\" + 0.008*\"write\" + 0.007*\"want\"'),\n (3,\n  '0.143*\"feeling\" + 0.066*\"m\" + 0.021*\"little\" + 0.015*\"ve\" + 0.015*\"bit\" + 0.012*\"day\" + 0.010*\"today\" + 0.009*\"days\" + 0.009*\"pretty\" + 0.008*\"left\"'),\n (4,\n  '0.034*\"like\" + 0.016*\"life\" + 0.012*\"friends\" + 0.011*\"time\" + 0.009*\"moment\" + 0.009*\"people\" + 0.008*\"blessed\" + 0.008*\"ve\" + 0.008*\"s\" + 0.007*\"able\"'),\n (5,\n  '0.044*\"feeling\" + 0.017*\"http\" + 0.015*\"href\" + 0.014*\"m\" + 0.009*\"generous\" + 0.008*\"glad\" + 0.008*\"ok\" + 0.007*\"confident\" + 0.007*\"s\" + 0.007*\"time\"')]"
     },
     "execution_count": 16,
     "metadata": {},
     "output_type": "execute_result"
    }
   ],
   "source": [
    "# train LDA model\n",
    "lda = LdaModel(\n",
    "    corpus,  # documents in BOW format\n",
    "    id2word=dictionary.id2token,  # id -> word mapping to make topics interpretable\n",
    "    num_topics=6,  # desired number of topics\n",
    "    passes=30,  # number of iterations\n",
    ")\n",
    "\n",
    "# look at the topics\n",
    "print(\"LDA topics:\")\n",
    "lda.print_topics()"
   ]
  },
  {
   "cell_type": "code",
   "execution_count": 17,
   "metadata": {
    "pycharm": {
     "name": "#%%\n"
    }
   },
   "outputs": [
    {
     "data": {
      "text/plain": "PreparedData(topic_coordinates=              x         y  topics  cluster       Freq\ntopic                                                \n3      0.198576  0.083009       1        1  24.356666\n1     -0.217978  0.104750       2        1  18.178701\n0     -0.145913  0.071074       3        1  17.930536\n2      0.034020  0.156093       4        1  15.455258\n4     -0.130752 -0.305858       5        1  12.939136\n5      0.262046 -0.109070       6        1  11.139704, topic_info=        Term         Freq        Total Category  logprob  loglift\n5    feeling  6176.000000  6176.000000  Default  30.0000  30.0000\n182        t  1148.000000  1148.000000  Default  29.0000  29.0000\n27      like  3531.000000  3531.000000  Default  28.0000  28.0000\n10         m  3507.000000  3507.000000  Default  27.0000  27.0000\n232      don   509.000000   509.000000  Default  26.0000  26.0000\n..       ...          ...          ...      ...      ...      ...\n52         s   103.756760   937.033963   Topic6  -4.9556  -0.0060\n39     years    75.780129   172.402999   Topic6  -5.2698   1.3727\n54      time    98.190863   977.657415   Topic6  -5.0107  -0.1036\n621    right    78.913009   448.430002   Topic6  -5.2293   0.4572\n407    happy    73.662866   317.786679   Topic6  -5.2982   0.7328\n\n[333 rows x 6 columns], token_table=      Topic      Freq        Term\nterm                             \n106       1  0.146399        able\n106       2  0.248435        able\n106       4  0.075418        able\n106       5  0.527923        able\n169       3  0.984779  acceptable\n...     ...       ...         ...\n39        1  0.133408       years\n39        2  0.237815       years\n39        5  0.191412       years\n39        6  0.440828       years\n317       3  0.992556       young\n\n[411 rows x 3 columns], R=30, lambda_step=0.01, plot_opts={'xlab': 'PC1', 'ylab': 'PC2'}, topic_order=[4, 2, 1, 3, 5, 6])",
      "text/html": "\n<link rel=\"stylesheet\" type=\"text/css\" href=\"https://cdn.jsdelivr.net/gh/bmabey/pyLDAvis@3.3.1/pyLDAvis/js/ldavis.v1.0.0.css\">\n\n\n<div id=\"ldavis_el80921401865476336162658137662\"></div>\n<script type=\"text/javascript\">\n\nvar ldavis_el80921401865476336162658137662_data = {\"mdsDat\": {\"x\": [0.1985757067470481, -0.21797794881270796, -0.14591276749595256, 0.03402025062283226, -0.13075157807768403, 0.26204633701646435], \"y\": [0.08300945048349168, 0.10475049023824476, 0.07107443031195185, 0.15609314982733297, -0.3058575613629563, -0.10906995949806494], \"topics\": [1, 2, 3, 4, 5, 6], \"cluster\": [1, 1, 1, 1, 1, 1], \"Freq\": [24.356665648300684, 18.178700728876372, 17.930535965808186, 15.455257663204385, 12.93913570346901, 11.139704290341367]}, \"tinfo\": {\"Term\": [\"feeling\", \"t\", \"like\", \"m\", \"don\", \"nt\", \"know\", \"people\", \"little\", \"bit\", \"http\", \"want\", \"href\", \"love\", \"feelings\", \"look\", \"life\", \"going\", \"days\", \"today\", \"friends\", \"s\", \"ve\", \"left\", \"day\", \"moment\", \"write\", \"week\", \"blessed\", \"find\", \"days\", \"left\", \"week\", \"morning\", \"night\", \"overwhelmed\", \"went\", \"tired\", \"agitated\", \"lately\", \"anxious\", \"slightly\", \"depressed\", \"lonely\", \"spent\", \"nervous\", \"fine\", \"embarrassed\", \"bed\", \"irritable\", \"woke\", \"somewhat\", \"super\", \"discouraged\", \"uncertain\", \"hopeful\", \"apprehensive\", \"gloomy\", \"hopeless\", \"insecure\", \"feeling\", \"bit\", \"started\", \"little\", \"remember\", \"starting\", \"today\", \"m\", \"day\", \"sure\", \"ve\", \"home\", \"pretty\", \"got\", \"going\", \"having\", \"time\", \"good\", \"nt\", \"right\", \"think\", \"t\", \"don\", \"look\", \"hate\", \"didn\", \"accepted\", \"hurt\", \"care\", \"child\", \"eyes\", \"caring\", \"punished\", \"disgusted\", \"curious\", \"needed\", \"insulted\", \"unwelcome\", \"selfish\", \"girls\", \"violent\", \"aching\", \"gorgeous\", \"humiliated\", \"tried\", \"pressured\", \"gentle\", \"longing\", \"damaged\", \"innocent\", \"reassured\", \"hand\", \"feelings\", \"loved\", \"girl\", \"know\", \"try\", \"love\", \"heart\", \"want\", \"like\", \"pain\", \"nt\", \"s\", \"face\", \"people\", \"way\", \"think\", \"help\", \"need\", \"sweet\", \"life\", \"feels\", \"time\", \"strange\", \"weird\", \"guess\", \"passionate\", \"friend\", \"stupid\", \"supporting\", \"job\", \"ashamed\", \"wrong\", \"funny\", \"women\", \"hear\", \"valued\", \"offended\", \"music\", \"smart\", \"men\", \"woman\", \"worthwhile\", \"oh\", \"young\", \"trust\", \"respected\", \"inadequate\", \"ungrateful\", \"support\", \"acceptable\", \"ignored\", \"fake\", \"hope\", \"like\", \"people\", \"person\", \"nt\", \"bad\", \"s\", \"feels\", \"know\", \"think\", \"important\", \"want\", \"making\", \"m\", \"things\", \"hated\", \"need\", \"life\", \"help\", \"ve\", \"work\", \"lot\", \"time\", \"love\", \"little\", \"write\", \"reason\", \"sorry\", \"comfortable\", \"hot\", \"tortured\", \"low\", \"inspired\", \"eat\", \"disappointed\", \"sit\", \"rude\", \"pathetic\", \"defeated\", \"distracted\", \"dissatisfied\", \"rejected\", \"unimportant\", \"dirty\", \"drained\", \"bitter\", \"naughty\", \"burdened\", \"resolved\", \"grumpy\", \"problems\", \"regretful\", \"lame\", \"boy\", \"needy\", \"find\", \"going\", \"afraid\", \"nt\", \"m\", \"like\", \"feeling\", \"things\", \"d\", \"angry\", \"time\", \"need\", \"happy\", \"want\", \"way\", \"away\", \"know\", \"feels\", \"right\", \"bit\", \"life\", \"good\", \"moment\", \"blessed\", \"cool\", \"extremely\", \"experience\", \"missed\", \"lucky\", \"awkward\", \"talented\", \"greedy\", \"popular\", \"situation\", \"rushed\", \"sincere\", \"joyful\", \"homesick\", \"jealous\", \"hesitant\", \"game\", \"christmas\", \"song\", \"valuable\", \"wasn\", \"honoured\", \"summer\", \"high\", \"doomed\", \"stand\", \"triumphant\", \"fabulous\", \"friends\", \"found\", \"life\", \"wonderful\", \"amazing\", \"like\", \"able\", \"real\", \"time\", \"perfect\", \"share\", \"people\", \"family\", \"ve\", \"s\", \"year\", \"new\", \"love\", \"work\", \"http\", \"href\", \"generous\", \"glad\", \"ok\", \"confident\", \"ago\", \"useless\", \"shitty\", \"content\", \"kinda\", \"stay\", \"peaceful\", \"lovely\", \"energetic\", \"hair\", \"www\", \"second\", \"simply\", \"rich\", \"divine\", \"discontent\", \"honored\", \"incredibly\", \"needs\", \"troubled\", \"outside\", \"deal\", \"deprived\", \"cry\", \"story\", \"strong\", \"feeling\", \"book\", \"cold\", \"said\", \"m\", \"free\", \"s\", \"years\", \"time\", \"right\", \"happy\"], \"Freq\": [6176.0, 1148.0, 3531.0, 3507.0, 509.0, 1930.0, 1059.0, 838.0, 875.0, 599.0, 253.0, 761.0, 223.0, 590.0, 404.0, 259.0, 663.0, 587.0, 293.0, 395.0, 251.0, 937.0, 859.0, 258.0, 514.0, 161.0, 168.0, 218.0, 145.0, 277.0, 292.6086110205577, 258.0439018487102, 217.48651844442557, 172.16648181637822, 164.45412681093097, 160.42997511725025, 140.43603716301922, 125.39225362320676, 120.509251390932, 120.31339648381515, 119.90543666637593, 111.03786165916472, 109.8782623302794, 103.32258210307133, 97.96635758086184, 97.26593519996202, 96.76642944845119, 88.82965642457657, 87.18138717926671, 84.56336693509208, 84.37697557391219, 83.85996751161146, 81.69925700231751, 74.3259624006258, 70.40884176174555, 70.22042571165682, 69.06762783773569, 66.50325435079797, 66.49367082329606, 66.42929321484219, 4615.705202158652, 496.9172692281829, 211.93204688264768, 672.6657856690254, 178.43857811593344, 115.11871963998908, 322.75250944493575, 2129.771882978609, 370.75428402700425, 221.18472521917144, 498.17383615810684, 192.28259099913927, 289.66099391856443, 224.87534315993298, 244.69533784034968, 151.34369621364334, 240.73977060874458, 157.37993875186004, 213.3187938105634, 143.52800708536623, 120.33169367247298, 1147.749731385047, 508.8416531204697, 258.43265533384977, 164.12044914421818, 160.78283290922553, 153.90846640646546, 145.25635573185468, 123.64209707798098, 95.02102932012228, 92.71377779282504, 84.80155806815222, 81.72231796084499, 78.75859574101587, 78.68698472501382, 77.44770838040486, 74.89456158245108, 74.19573433117723, 73.97218147364146, 74.12444233259698, 70.83233365298634, 69.99492971111374, 68.71088458831014, 68.11766889404753, 65.74407853340348, 65.2053868342868, 64.53238880058618, 63.37251981002468, 62.72905047663096, 62.26362644539102, 61.96166246365135, 78.82994370756485, 295.96470800892644, 120.1333643753645, 103.54069739350815, 598.8495643190417, 157.77823728182605, 357.5557114060074, 142.73427115655127, 365.33111743109674, 961.6504146578054, 117.46375942805778, 583.4492837175845, 331.510188827192, 98.47223814446842, 236.12001717245212, 182.96790887627236, 167.06339045725437, 120.76063098180816, 133.99538774320695, 97.8018202341267, 130.09205847379022, 115.17226288396068, 103.8687816262585, 165.16426623169772, 163.17678131280547, 148.114246174217, 137.79139879899196, 127.94179261233933, 119.50627919080254, 114.67760269636817, 107.58208732850595, 94.52659033991726, 94.35951013305667, 91.05828766878416, 89.26377911912556, 86.88304350255531, 77.38595855589817, 76.26910029742325, 74.39104612394159, 69.66859854712496, 68.69605439582475, 68.44505869882711, 67.44112007397848, 66.19523919623622, 65.66788159757151, 65.57842915350989, 64.22267037854454, 63.792422008680624, 63.80163554417426, 63.562315477835114, 63.14693352563708, 63.06242183308343, 62.81725015043317, 144.6556428331392, 1320.3340614069684, 442.4822226369244, 180.52896558764965, 637.3917009209238, 137.97589032457452, 326.3365598159522, 193.2968611549397, 336.52758021239475, 258.32207519016106, 98.25775755245263, 253.15443554031617, 113.82969245210198, 487.2420528187763, 188.89651193369352, 99.66398927829772, 147.525915837669, 164.8508072907753, 129.13334730506492, 162.64721003664948, 126.30358294250772, 115.95877544493777, 136.76271777385426, 125.98684488829396, 125.51943323446172, 167.79161015270162, 118.76922949836056, 113.07784054177097, 103.173422719791, 97.75886286418886, 96.04536600557938, 93.31300025460793, 88.45322156271591, 84.41655478950811, 81.49104913669954, 78.49376909908409, 77.1069684558068, 76.82137930162196, 71.62082454789527, 71.37167455035663, 69.76031486821755, 67.9126240822464, 67.662160790475, 67.10103679628573, 66.68032584381392, 66.29800495608765, 65.77487132839917, 64.8027147892359, 62.767089695234226, 60.21120975256874, 58.51048420454144, 57.032362028964116, 56.60590779338026, 55.886284411898686, 55.383744760439605, 184.18152217733655, 251.5874716346157, 95.02988503167289, 495.7899662332707, 677.8909638804456, 668.7409955286771, 902.6051998606782, 174.56588633718695, 117.96880521337822, 94.12090460674199, 203.5932290652648, 141.778991435635, 119.39312039191257, 142.63264220354296, 120.44531650458661, 97.94826273245012, 124.12056089829353, 100.03873213560615, 101.1626931164622, 101.65146697003965, 95.87846343852249, 85.82173203541893, 160.9090816332465, 144.75617979468234, 114.94506184209035, 98.57131400892861, 96.49916684918499, 94.14715979528086, 90.4065852433988, 88.66771085518432, 88.0526899359242, 81.03187633762057, 80.91670083713704, 78.63330829694101, 75.38933646677572, 73.73168088403503, 72.56854855388922, 72.12941407269456, 68.5332710006662, 67.96261208933997, 67.43119220263198, 65.81924510399989, 65.29699161278901, 64.86752945157131, 64.1487262917676, 62.591088393401556, 61.60871849788289, 58.57973668605236, 57.33346941126105, 55.660847227962925, 51.30941467872187, 50.347739882989174, 202.7067456106681, 94.41855043397553, 272.4009897992118, 87.86193648873436, 109.21109703571366, 575.3076163357865, 118.94678903335044, 88.4564256381587, 194.5020527948875, 79.02541968711093, 82.76305429988962, 159.37784343195102, 96.90416138713312, 143.30788133882362, 135.96839108941734, 90.26030534654784, 92.01475583488995, 105.97779343985574, 88.51060337773313, 253.0561219399663, 222.341398651409, 127.50056007186787, 116.09710987576466, 115.49792180324255, 106.14406741282616, 95.10361870475946, 93.40710582639223, 91.75231126495471, 86.24684471409044, 86.05808339156674, 81.46293630711071, 81.18652673504276, 81.07967242048647, 78.58229406835284, 78.23211262871186, 74.90381131106795, 72.33317553953124, 71.89241006612275, 67.51253553321598, 64.71920543786464, 64.01963823841889, 63.553362995089046, 61.80928080927234, 61.13902343689675, 60.969145791865245, 60.2476699596879, 58.80245472338536, 56.379383264921515, 55.76615761666829, 76.49149439390625, 84.32472916492104, 647.2100943611398, 83.62797428213777, 80.43023991003109, 94.95014852669539, 212.19546556196923, 75.7722272592053, 103.75676039113831, 75.78012918309595, 98.19086332857543, 78.91300878924233, 73.66286629478635], \"Total\": [6176.0, 1148.0, 3531.0, 3507.0, 509.0, 1930.0, 1059.0, 838.0, 875.0, 599.0, 253.0, 761.0, 223.0, 590.0, 404.0, 259.0, 663.0, 587.0, 293.0, 395.0, 251.0, 937.0, 859.0, 258.0, 514.0, 161.0, 168.0, 218.0, 145.0, 277.0, 293.4444488670588, 258.87959949487424, 218.32126492776626, 173.00054320936573, 165.28911360862946, 161.26447035646223, 141.27109110225078, 126.22632176745317, 121.34298067001127, 121.14766363431058, 120.73880206875528, 111.8738648364121, 110.71259092584955, 104.15767390669612, 98.80202574883728, 98.09996922320107, 97.60169500852932, 89.66648338050766, 88.0168878987552, 85.39671013582772, 85.2094590535487, 84.69629074654567, 82.5363297287304, 75.1595727168451, 71.24238499867506, 71.05509204721508, 69.90238890252671, 67.33600845280581, 67.32807243392027, 67.26359915892206, 6176.148679944236, 599.2381183446873, 240.63918192305016, 875.8943696123171, 200.52807934515545, 123.5182509529279, 395.33466478720356, 3507.4335987650097, 514.2716603023212, 295.5189229415969, 859.956439281809, 255.23896098559572, 478.97574579629196, 340.6482000898921, 587.262533943166, 291.74937774365014, 977.6574151975851, 455.0730348508573, 1930.293931876219, 448.43000166992465, 692.64409522553, 1148.5778284922258, 509.6682915818414, 259.26136410484514, 164.94915714716706, 161.61004589121058, 154.7373857168899, 146.08442596132815, 124.47058840233287, 95.84993074904824, 93.54311770531163, 85.62972196671012, 82.55022568455163, 79.58810590541191, 79.5163120563868, 78.27752832136882, 75.72256362852093, 75.02407165447705, 74.79986412224405, 74.95482429828606, 71.66015571027366, 70.82307616622587, 69.54071819232159, 68.9464935750085, 66.57609421720204, 66.03474617486836, 65.3619657592586, 64.2003916539184, 63.55673589046133, 63.09190604736268, 62.79195586099118, 80.06120333225064, 404.1792289301655, 141.60228443995078, 118.02939838729895, 1059.9982097732498, 200.98555182525809, 590.0167799462437, 181.85550097358296, 761.6179782998192, 3531.7637209540258, 157.47083864430715, 1930.293931876219, 937.0339634355925, 132.8491690383811, 838.4761786796493, 538.3325620324805, 692.64409522553, 321.6626320103786, 459.6840839258965, 162.8700664319369, 663.5524888721945, 409.00865179086526, 977.6574151975851, 165.99099119276283, 164.00338246569734, 148.94188984360267, 138.6177367562668, 128.76990514200884, 120.33272859062151, 115.5041964995817, 108.40918165596428, 95.35259209858425, 95.18681308820335, 91.88555683703945, 90.09121157057776, 87.71005356924496, 78.21241078009156, 77.0958857409176, 75.2188759758513, 70.49466105759102, 69.52383998349134, 69.27232405815577, 68.26774950061525, 67.02373501459788, 66.49498670355196, 66.40573188016711, 65.04815130708036, 64.6192518529745, 64.62910817261998, 64.38829796083074, 63.973736751222575, 63.88889038167572, 63.64334934898145, 163.46674116156504, 3531.7637209540258, 838.4761786796493, 268.41892035583317, 1930.293931876219, 212.13263169903425, 937.0339634355925, 409.00865179086526, 1059.9982097732498, 692.64409522553, 134.74551738139343, 761.6179782998192, 188.1040399187073, 3507.4335987650097, 602.8331692620534, 145.12684687431465, 459.6840839258965, 663.5524888721945, 321.6626320103786, 859.956439281809, 397.7565088963924, 279.81681378630714, 977.6574151975851, 590.0167799462437, 875.8943696123171, 168.61575445419456, 119.59481636493986, 113.902201600052, 103.99834973369911, 98.58386687126763, 96.86922873046619, 94.13748261757688, 89.2782470080628, 85.24060305593568, 82.31528005493044, 79.31875700689729, 77.9316844012422, 77.64517436447385, 72.4446274574851, 72.19533816912622, 70.5841547496492, 68.73680096771692, 68.4859074832816, 67.92547129765514, 67.50379001536116, 67.12191624154624, 66.59917584921656, 65.62626659594052, 63.59116097381696, 61.03603626585617, 59.33703954115784, 57.857364924927175, 57.430699955268906, 56.71095413745021, 56.20733318707808, 277.4342803316068, 587.262533943166, 132.19350397652758, 1930.293931876219, 3507.4335987650097, 3531.7637209540258, 6176.148679944236, 602.8331692620534, 248.68857852370076, 154.03917311520954, 977.6574151975851, 459.6840839258965, 317.78667860574615, 761.6179782998192, 538.3325620324805, 268.1471455901541, 1059.9982097732498, 409.00865179086526, 448.43000166992465, 599.2381183446873, 663.5524888721945, 455.0730348508573, 161.730855191077, 145.5752802949993, 115.76632639686426, 99.39127721753793, 97.32078694127459, 94.96746686609382, 91.22575955605934, 89.48817602478171, 88.87314985023517, 81.85286606190924, 81.73697215663772, 79.45441306183027, 76.20997769278394, 74.55246970430784, 73.38890994539362, 72.95066460333528, 69.35345498541193, 68.78327855509818, 68.25268462189688, 66.63991740559796, 66.11794187719714, 65.68711080703845, 64.97208476333593, 63.410436753190474, 62.43006814236955, 59.40066759414502, 58.15334958322436, 56.48330098358968, 52.129021394338025, 51.167638183271855, 251.15406585146403, 125.17821763414231, 663.5524888721945, 117.43406652718946, 170.91219311996633, 3531.7637209540258, 225.41148725599317, 136.62731390911767, 977.6574151975851, 109.20703071302756, 123.8491236559515, 838.4761786796493, 217.12382416231023, 859.956439281809, 937.0339634355925, 215.68538053332966, 239.64396565760288, 590.0167799462437, 397.7565088963924, 253.87148030423728, 223.1568657712689, 128.31779575530607, 116.91461483753062, 116.31558370033328, 106.96127550138208, 95.92150978740189, 94.22385943603514, 92.56989223049989, 87.0637087126134, 86.87659401500791, 82.28120375174616, 82.00375649127939, 81.89678003325379, 79.3993139523843, 79.04992705722728, 75.71895595450457, 73.15270644330207, 72.71122417780873, 68.32924345690186, 65.53553666024467, 64.83725035062409, 64.37037257366083, 62.62682971975438, 61.95641784480359, 61.786705963605115, 61.066143071647446, 59.62136225203057, 57.19669870787831, 56.58450640511588, 89.84405797096453, 112.00345715274034, 6176.148679944236, 132.8766559139109, 135.13151503472824, 228.7101748245776, 3507.4335987650097, 139.20194783885626, 937.0339634355925, 172.40299932357414, 977.6574151975851, 448.43000166992465, 317.78667860574615], \"Category\": [\"Default\", \"Default\", \"Default\", \"Default\", \"Default\", \"Default\", \"Default\", \"Default\", \"Default\", \"Default\", \"Default\", \"Default\", \"Default\", \"Default\", \"Default\", \"Default\", \"Default\", \"Default\", \"Default\", \"Default\", \"Default\", \"Default\", \"Default\", \"Default\", \"Default\", \"Default\", \"Default\", \"Default\", \"Default\", \"Default\", \"Topic1\", \"Topic1\", \"Topic1\", \"Topic1\", \"Topic1\", \"Topic1\", \"Topic1\", \"Topic1\", \"Topic1\", \"Topic1\", \"Topic1\", \"Topic1\", \"Topic1\", \"Topic1\", \"Topic1\", \"Topic1\", \"Topic1\", \"Topic1\", \"Topic1\", \"Topic1\", \"Topic1\", \"Topic1\", \"Topic1\", \"Topic1\", \"Topic1\", \"Topic1\", \"Topic1\", \"Topic1\", \"Topic1\", \"Topic1\", \"Topic1\", \"Topic1\", \"Topic1\", \"Topic1\", \"Topic1\", \"Topic1\", \"Topic1\", \"Topic1\", \"Topic1\", \"Topic1\", \"Topic1\", \"Topic1\", \"Topic1\", \"Topic1\", \"Topic1\", \"Topic1\", \"Topic1\", \"Topic1\", \"Topic1\", \"Topic1\", \"Topic1\", \"Topic2\", \"Topic2\", \"Topic2\", \"Topic2\", \"Topic2\", \"Topic2\", \"Topic2\", \"Topic2\", \"Topic2\", \"Topic2\", \"Topic2\", \"Topic2\", \"Topic2\", \"Topic2\", \"Topic2\", \"Topic2\", \"Topic2\", \"Topic2\", \"Topic2\", \"Topic2\", \"Topic2\", \"Topic2\", \"Topic2\", \"Topic2\", \"Topic2\", \"Topic2\", \"Topic2\", \"Topic2\", \"Topic2\", \"Topic2\", \"Topic2\", \"Topic2\", \"Topic2\", \"Topic2\", \"Topic2\", \"Topic2\", \"Topic2\", \"Topic2\", \"Topic2\", \"Topic2\", \"Topic2\", \"Topic2\", \"Topic2\", \"Topic2\", \"Topic2\", \"Topic2\", \"Topic2\", \"Topic2\", \"Topic2\", \"Topic2\", \"Topic2\", \"Topic2\", \"Topic2\", \"Topic3\", \"Topic3\", \"Topic3\", \"Topic3\", \"Topic3\", \"Topic3\", \"Topic3\", \"Topic3\", \"Topic3\", \"Topic3\", \"Topic3\", \"Topic3\", \"Topic3\", \"Topic3\", \"Topic3\", \"Topic3\", \"Topic3\", \"Topic3\", \"Topic3\", \"Topic3\", \"Topic3\", \"Topic3\", \"Topic3\", \"Topic3\", \"Topic3\", \"Topic3\", \"Topic3\", \"Topic3\", \"Topic3\", \"Topic3\", \"Topic3\", \"Topic3\", \"Topic3\", \"Topic3\", \"Topic3\", \"Topic3\", \"Topic3\", \"Topic3\", \"Topic3\", \"Topic3\", \"Topic3\", \"Topic3\", \"Topic3\", \"Topic3\", \"Topic3\", \"Topic3\", \"Topic3\", \"Topic3\", \"Topic3\", \"Topic3\", \"Topic3\", \"Topic3\", \"Topic3\", \"Topic3\", \"Topic3\", \"Topic4\", \"Topic4\", \"Topic4\", \"Topic4\", \"Topic4\", \"Topic4\", \"Topic4\", \"Topic4\", \"Topic4\", \"Topic4\", \"Topic4\", \"Topic4\", \"Topic4\", \"Topic4\", \"Topic4\", \"Topic4\", \"Topic4\", \"Topic4\", \"Topic4\", \"Topic4\", \"Topic4\", \"Topic4\", \"Topic4\", \"Topic4\", \"Topic4\", \"Topic4\", \"Topic4\", \"Topic4\", \"Topic4\", \"Topic4\", \"Topic4\", \"Topic4\", \"Topic4\", \"Topic4\", \"Topic4\", \"Topic4\", \"Topic4\", \"Topic4\", \"Topic4\", \"Topic4\", \"Topic4\", \"Topic4\", \"Topic4\", \"Topic4\", \"Topic4\", \"Topic4\", \"Topic4\", \"Topic4\", \"Topic4\", \"Topic4\", \"Topic4\", \"Topic4\", \"Topic5\", \"Topic5\", \"Topic5\", \"Topic5\", \"Topic5\", \"Topic5\", \"Topic5\", \"Topic5\", \"Topic5\", \"Topic5\", \"Topic5\", \"Topic5\", \"Topic5\", \"Topic5\", \"Topic5\", \"Topic5\", \"Topic5\", \"Topic5\", \"Topic5\", \"Topic5\", \"Topic5\", \"Topic5\", \"Topic5\", \"Topic5\", \"Topic5\", \"Topic5\", \"Topic5\", \"Topic5\", \"Topic5\", \"Topic5\", \"Topic5\", \"Topic5\", \"Topic5\", \"Topic5\", \"Topic5\", \"Topic5\", \"Topic5\", \"Topic5\", \"Topic5\", \"Topic5\", \"Topic5\", \"Topic5\", \"Topic5\", \"Topic5\", \"Topic5\", \"Topic5\", \"Topic5\", \"Topic5\", \"Topic5\", \"Topic6\", \"Topic6\", \"Topic6\", \"Topic6\", \"Topic6\", \"Topic6\", \"Topic6\", \"Topic6\", \"Topic6\", \"Topic6\", \"Topic6\", \"Topic6\", \"Topic6\", \"Topic6\", \"Topic6\", \"Topic6\", \"Topic6\", \"Topic6\", \"Topic6\", \"Topic6\", \"Topic6\", \"Topic6\", \"Topic6\", \"Topic6\", \"Topic6\", \"Topic6\", \"Topic6\", \"Topic6\", \"Topic6\", \"Topic6\", \"Topic6\", \"Topic6\", \"Topic6\", \"Topic6\", \"Topic6\", \"Topic6\", \"Topic6\", \"Topic6\", \"Topic6\", \"Topic6\", \"Topic6\", \"Topic6\", \"Topic6\"], \"logprob\": [30.0, 29.0, 28.0, 27.0, 26.0, 25.0, 24.0, 23.0, 22.0, 21.0, 20.0, 19.0, 18.0, 17.0, 16.0, 15.0, 14.0, 13.0, 12.0, 11.0, 10.0, 9.0, 8.0, 7.0, 6.0, 5.0, 4.0, 3.0, 2.0, 1.0, -4.7011, -4.8268, -4.9978, -5.2315, -5.2773, -5.3021, -5.4352, -5.5485, -5.5882, -5.5898, -5.5932, -5.6701, -5.6806, -5.7421, -5.7953, -5.8025, -5.8076, -5.8932, -5.912, -5.9424, -5.9447, -5.9508, -5.9769, -6.0715, -6.1256, -6.1283, -6.1449, -6.1827, -6.1828, -6.1838, -1.9427, -4.1715, -5.0237, -3.8687, -5.1957, -5.634, -4.6031, -2.7162, -4.4644, -4.981, -4.169, -5.121, -4.7112, -4.9644, -4.8799, -5.3604, -4.8962, -5.3213, -5.0172, -5.4134, -5.5897, -3.0418, -3.8553, -4.5328, -4.9868, -5.0073, -5.051, -5.1089, -5.27, -5.5333, -5.5579, -5.6471, -5.6841, -5.721, -5.7219, -5.7378, -5.7713, -5.7807, -5.7837, -5.7816, -5.8271, -5.839, -5.8575, -5.8662, -5.9016, -5.9099, -5.9202, -5.9384, -5.9486, -5.956, -5.9609, -5.7201, -4.3972, -5.2988, -5.4474, -3.6924, -5.0262, -4.2081, -5.1264, -4.1866, -3.2187, -5.3213, -3.7184, -4.2837, -5.4976, -4.6231, -4.8781, -4.969, -5.2936, -5.1896, -5.5045, -5.2192, -5.341, -5.4443, -4.9667, -4.9788, -5.0757, -5.1479, -5.2221, -5.2903, -5.3315, -5.3954, -5.5248, -5.5265, -5.5621, -5.5821, -5.6091, -5.7248, -5.7394, -5.7643, -5.8299, -5.844, -5.8476, -5.8624, -5.881, -5.889, -5.8904, -5.9113, -5.918, -5.9179, -5.9216, -5.9282, -5.9295, -5.9334, -5.0993, -2.888, -3.9812, -4.8778, -3.6163, -5.1466, -4.2857, -4.8094, -4.255, -4.5194, -5.4861, -4.5396, -5.3389, -3.8849, -4.8324, -5.4718, -5.0796, -4.9686, -5.2128, -4.9821, -5.235, -5.3204, -5.1554, -5.2375, -5.2412, -4.8024, -5.1479, -5.197, -5.2887, -5.3426, -5.3603, -5.3891, -5.4426, -5.4893, -5.5246, -5.5621, -5.5799, -5.5836, -5.6537, -5.6572, -5.68, -5.7069, -5.7106, -5.7189, -5.7252, -5.7309, -5.7389, -5.7537, -5.7857, -5.8272, -5.8559, -5.8815, -5.889, -5.9018, -5.9108, -4.7092, -4.3973, -5.3709, -3.7189, -3.4061, -3.4197, -3.1198, -4.7628, -5.1547, -5.3805, -4.609, -4.9708, -5.1427, -4.9648, -5.1339, -5.3407, -5.1038, -5.3195, -5.3084, -5.3035, -5.362, -5.4728, -4.6666, -4.7723, -5.0029, -5.1566, -5.1779, -5.2025, -5.2431, -5.2625, -5.2695, -5.3526, -5.354, -5.3826, -5.4247, -5.447, -5.4629, -5.4689, -5.5201, -5.5284, -5.5363, -5.5605, -5.5685, -5.5751, -5.5862, -5.6108, -5.6266, -5.677, -5.6985, -5.7281, -5.8095, -5.8284, -4.4356, -5.1997, -4.1401, -5.2716, -5.0541, -3.3925, -4.9687, -5.2649, -4.477, -5.3776, -5.3314, -4.6761, -5.1737, -4.7824, -4.835, -5.2447, -5.2255, -5.0842, -5.2643, -4.064, -4.1934, -4.7495, -4.8432, -4.8484, -4.9329, -5.0427, -5.0607, -5.0786, -5.1404, -5.1426, -5.1975, -5.2009, -5.2022, -5.2335, -5.238, -5.2815, -5.3164, -5.3225, -5.3853, -5.4276, -5.4385, -5.4458, -5.4736, -5.4845, -5.4873, -5.4992, -5.5235, -5.5656, -5.5765, -5.2605, -5.163, -3.125, -5.1713, -5.2103, -5.0443, -4.2402, -5.2699, -4.9556, -5.2698, -5.0107, -5.2293, -5.2982], \"loglift\": [30.0, 29.0, 28.0, 27.0, 26.0, 25.0, 24.0, 23.0, 22.0, 21.0, 20.0, 19.0, 18.0, 17.0, 16.0, 15.0, 14.0, 13.0, 12.0, 11.0, 10.0, 9.0, 8.0, 7.0, 6.0, 5.0, 4.0, 3.0, 2.0, 1.0, 1.4095, 1.4091, 1.4085, 1.4075, 1.4073, 1.4072, 1.4064, 1.4057, 1.4055, 1.4055, 1.4054, 1.4049, 1.4048, 1.4043, 1.4039, 1.4038, 1.4038, 1.403, 1.4028, 1.4026, 1.4025, 1.4024, 1.4022, 1.4012, 1.4006, 1.4005, 1.4004, 1.3999, 1.3999, 1.3999, 1.1211, 1.2251, 1.2853, 1.1484, 1.2957, 1.3419, 1.2095, 0.9135, 1.0852, 1.1226, 0.8664, 1.1291, 0.9094, 0.9971, 0.5369, 0.756, 0.0109, 0.3506, -0.7903, 0.2731, -0.3379, 1.7042, 1.7033, 1.7017, 1.6999, 1.6998, 1.6995, 1.6992, 1.6982, 1.6962, 1.696, 1.6952, 1.6948, 1.6944, 1.6944, 1.6943, 1.6939, 1.6938, 1.6938, 1.6938, 1.6933, 1.6932, 1.6929, 1.6928, 1.6923, 1.6923, 1.6921, 1.6919, 1.6918, 1.6917, 1.6916, 1.6894, 1.3933, 1.5405, 1.574, 1.1339, 1.4629, 1.2041, 1.4627, 0.9703, 0.404, 1.4118, 0.5084, 0.6659, 1.4055, 0.4377, 0.6258, 0.2828, 0.7252, 0.4722, 1.1949, 0.0756, 0.4376, -0.5371, 1.7137, 1.7136, 1.7131, 1.7127, 1.7122, 1.7118, 1.7115, 1.711, 1.71, 1.7099, 1.7096, 1.7094, 1.7092, 1.708, 1.7079, 1.7076, 1.7069, 1.7067, 1.7067, 1.7065, 1.7062, 1.7061, 1.7061, 1.7059, 1.7058, 1.7058, 1.7058, 1.7057, 1.7056, 1.7056, 1.5964, 0.7348, 1.0795, 1.322, 0.6106, 1.2885, 0.6639, 0.9692, 0.5713, 0.7324, 1.4029, 0.6172, 1.2164, -0.2552, 0.5582, 1.3429, 0.5821, 0.3261, 0.806, 0.0534, 0.5715, 0.8378, -0.2482, 0.1747, -0.2241, 1.8623, 1.8603, 1.86, 1.8593, 1.8588, 1.8587, 1.8584, 1.8579, 1.8575, 1.8572, 1.8568, 1.8566, 1.8566, 1.8558, 1.8557, 1.8555, 1.8552, 1.8551, 1.855, 1.8549, 1.8549, 1.8548, 1.8546, 1.8542, 1.8536, 1.8532, 1.8529, 1.8528, 1.8526, 1.8525, 1.4576, 1.0195, 1.5371, 0.5079, 0.2236, 0.2031, -0.0559, 0.6279, 1.1214, 1.3746, 0.2982, 0.691, 0.8883, 0.192, 0.3699, 0.8601, -0.2775, 0.459, 0.3782, 0.0931, -0.0673, 0.199, 2.0398, 2.0393, 2.0378, 2.0366, 2.0364, 2.0362, 2.0359, 2.0357, 2.0356, 2.0348, 2.0348, 2.0345, 2.0341, 2.0338, 2.0337, 2.0336, 2.033, 2.0329, 2.0328, 2.0325, 2.0324, 2.0324, 2.0322, 2.0319, 2.0317, 2.031, 2.0307, 2.0302, 2.0291, 2.0288, 1.8306, 1.7629, 1.1546, 1.7548, 1.597, 0.2303, 1.4057, 1.6102, 0.4302, 1.7214, 1.6418, 0.3846, 1.2382, 0.253, 0.1146, 1.1738, 1.0877, 0.328, 0.5422, 2.1914, 2.191, 2.1883, 2.1876, 2.1876, 2.187, 2.1861, 2.1859, 2.1858, 2.1852, 2.1852, 2.1847, 2.1846, 2.1846, 2.1843, 2.1843, 2.1838, 2.1834, 2.1833, 2.1826, 2.1821, 2.182, 2.1819, 2.1815, 2.1814, 2.1813, 2.1812, 2.1808, 2.1803, 2.1801, 2.0338, 1.9108, -0.0611, 1.7316, 1.6758, 1.3156, -0.6105, 1.5865, -0.006, 1.3727, -0.1036, 0.4572, 0.7328]}, \"token.table\": {\"Topic\": [1, 2, 4, 5, 3, 2, 2, 3, 4, 1, 6, 4, 5, 1, 2, 4, 1, 1, 3, 1, 2, 3, 4, 6, 5, 1, 3, 1, 1, 4, 4, 5, 4, 6, 4, 4, 2, 2, 2, 5, 1, 6, 4, 6, 6, 5, 6, 2, 1, 3, 4, 2, 1, 3, 5, 1, 6, 4, 1, 6, 2, 4, 4, 6, 1, 2, 4, 4, 6, 2, 5, 4, 4, 1, 6, 5, 5, 2, 5, 2, 4, 3, 2, 3, 5, 1, 4, 5, 6, 2, 3, 2, 3, 4, 1, 2, 4, 1, 4, 5, 2, 3, 5, 6, 3, 3, 5, 3, 5, 6, 2, 1, 2, 2, 6, 1, 1, 2, 4, 1, 2, 3, 4, 6, 2, 1, 4, 5, 5, 4, 3, 6, 2, 6, 1, 3, 4, 6, 2, 2, 3, 1, 2, 3, 4, 3, 2, 4, 2, 3, 5, 5, 5, 1, 2, 5, 5, 6, 5, 3, 6, 1, 1, 4, 6, 6, 2, 2, 3, 3, 4, 3, 6, 2, 1, 4, 2, 1, 5, 3, 5, 6, 2, 3, 4, 4, 1, 1, 2, 3, 4, 5, 2, 3, 4, 5, 6, 1, 3, 4, 1, 2, 2, 1, 2, 3, 4, 2, 3, 5, 2, 3, 6, 4, 5, 1, 3, 4, 6, 1, 2, 3, 3, 5, 5, 1, 3, 4, 2, 3, 4, 6, 2, 6, 4, 1, 1, 3, 5, 1, 1, 2, 3, 4, 3, 3, 6, 6, 1, 2, 3, 3, 4, 6, 2, 3, 5, 5, 6, 2, 3, 4, 6, 5, 2, 1, 4, 5, 6, 4, 2, 2, 5, 6, 4, 2, 4, 4, 1, 4, 5, 4, 3, 6, 1, 2, 3, 4, 6, 4, 5, 1, 2, 3, 5, 6, 2, 3, 6, 6, 2, 3, 5, 6, 6, 5, 4, 5, 1, 3, 1, 5, 4, 1, 5, 1, 3, 1, 4, 6, 2, 6, 3, 3, 6, 3, 5, 1, 3, 3, 1, 3, 2, 3, 4, 2, 5, 1, 2, 3, 4, 5, 1, 2, 3, 4, 5, 6, 1, 2, 3, 4, 5, 6, 1, 1, 6, 4, 2, 5, 6, 3, 2, 4, 1, 3, 4, 2, 6, 5, 3, 1, 2, 3, 5, 2, 2, 3, 4, 5, 1, 2, 3, 4, 5, 6, 1, 3, 1, 1, 3, 3, 5, 6, 1, 3, 4, 5, 3, 4, 3, 6, 1, 3, 4, 5, 1, 2, 5, 6, 3], \"Freq\": [0.1463989275866978, 0.2484345437834872, 0.07541762936284432, 0.5279234055399102, 0.9847791171710168, 0.9952345988432361, 0.9883784182955557, 0.2798927245817598, 0.7186434820342481, 0.997173460977162, 0.9903930850395881, 0.3569084152889139, 0.6377543814178953, 0.22721493041138746, 0.16229637886527676, 0.6102343845334406, 0.9938809889108013, 0.9870907287047798, 0.9963022284887681, 0.3505537968458297, 0.15290112415615978, 0.11187887133377544, 0.3654709796903331, 0.022375774266755088, 0.9945447985815856, 0.3441243311569794, 0.6505364068447007, 0.9884466728711777, 0.8293864905872376, 0.17021614092534856, 0.9832853961214562, 0.9960482281481202, 0.3687630431619718, 0.6321652168490945, 0.9874635482992039, 0.9904570741499523, 0.996219280326596, 0.9926459884226304, 0.9911326931338792, 0.9903973859735876, 0.39961070506848256, 0.5920158593607149, 0.9904003310027946, 0.9910128642644164, 0.9877824098198644, 0.9933804032596044, 0.9896702040496542, 0.9935068410111794, 0.2854976308983707, 0.23724451018315312, 0.47448902036630625, 0.991240332237627, 0.7214086029587998, 0.16528229447843124, 0.11278085976175307, 0.9984854071400064, 0.9895781943155885, 0.9938625199260492, 0.9935635963363298, 0.9790774863774878, 0.9962251982056781, 0.986375195048708, 0.984021434974737, 0.9870868930114025, 0.9845718559202876, 0.9926106307126991, 0.991723995963101, 0.9834430006224779, 0.9918283012921516, 0.9986887715149647, 0.9801670997201325, 0.9925368632598774, 0.9854458672104703, 0.9925670846521395, 0.9949708135686944, 0.9864285217702609, 0.9960632640157995, 0.9941939319681153, 0.977180143060549, 0.7376786825944472, 0.25592933885929803, 0.9898913341996866, 0.20264934154396588, 0.34542501399539643, 0.44674968476737936, 0.7473913338565673, 0.1462076201196881, 0.0016191320057551285, 0.10475784077235681, 0.7323483712497834, 0.2672081895100561, 0.28116764644578207, 0.47187265881770385, 0.2444936056050279, 0.14057383230862736, 0.19464069088886862, 0.6632201319176264, 0.9938351991891459, 0.23965830930490506, 0.7509293691553692, 0.021551422566822676, 0.12930853540093606, 0.3089037234577917, 0.5459693716928412, 0.9940210785962778, 0.1911177501238935, 0.8082688182322997, 0.9903623935303565, 0.9816463685078991, 0.9975233695884858, 0.994462134743747, 0.11861451630940896, 0.8811364068698951, 0.9872613363152412, 0.9921770700882725, 0.9950099737046143, 0.41718990373002507, 0.15325343402327452, 0.42910961526516866, 0.34499956705071344, 0.10108267569638738, 0.2241398461093807, 0.18898065456281118, 0.1406367661862781, 0.9922244376190338, 0.6605054714530292, 0.14090783390997955, 0.19961943137247104, 0.9895804984853654, 0.983025826556897, 0.9936761253359165, 0.9867181780387071, 0.986745098898318, 0.012490444289852125, 0.2737685556288982, 0.11957707027469115, 0.37446503586021707, 0.23286061053492488, 0.994245759338314, 0.31007357335456825, 0.6890523852323739, 0.5175675134864499, 0.17823517020725427, 0.13710397708250327, 0.16109717307194135, 0.9919045361352516, 0.7863385997917804, 0.20895711043417942, 0.37617052140547014, 0.401041299680212, 0.22072815718833372, 0.9886123695823725, 0.9932548301160085, 0.7522362544440675, 0.19589485792814257, 0.04701476590275422, 0.9869683900961771, 0.9942462260376541, 0.9935272996969253, 0.8870305908691657, 0.11011414231479298, 0.9851510705733237, 0.9802746107840274, 0.994077460239716, 0.9948159077818619, 0.9965672382608991, 0.986272056403002, 0.9925767175098102, 0.9860869334814638, 0.7272969216676332, 0.2671702977554571, 0.9904169139193463, 0.9899910354306716, 0.9826934052912748, 0.9812142202510367, 0.9856824360815758, 0.9904577500563019, 0.9953545032917928, 0.9949035706225987, 0.9962255811757457, 0.9947006987066166, 0.9899098943167998, 0.5650952940082187, 0.31792506524335507, 0.11698132964443925, 0.9925005274948004, 0.9905267373725436, 0.9966022834684907, 0.19591517201744538, 0.24866156448368065, 0.14467581933595966, 0.4099148214518857, 0.27238515257757323, 0.3737509370087283, 0.1894237703476055, 0.16280817331819605, 0.001415723246245183, 0.7683574907529992, 0.14385296260754518, 0.08791014381572206, 0.9888853709642829, 0.9813024247517167, 0.9951347779519704, 0.36452419931382757, 0.0750490998587292, 0.4145569325529804, 0.14295066639757945, 0.606762404338089, 0.21355324845418774, 0.17965590742971352, 0.847443955262518, 0.14830269217094066, 0.9890498743309608, 0.9879167937579362, 0.9865634491614608, 0.6072816320029514, 0.13884795999316304, 0.19330373075023521, 0.06044305445287591, 0.11695655239253615, 0.27644276020054, 0.6060475896704146, 0.9924653186070314, 0.989812649552315, 0.9954810404593882, 0.9942165314003965, 0.9837956103433051, 0.9910032542959222, 0.2915045455904919, 0.3219602443835283, 0.3089078020436556, 0.07831465403923663, 0.9836795010168957, 0.9845630545135882, 0.9785200058672123, 0.9887872623007824, 0.1752599940697381, 0.4381499851743452, 0.38390284415275966, 0.9922008559397214, 0.11034588902891435, 0.30202654133266227, 0.33000155545266874, 0.25695568525042967, 0.9857854186330988, 0.9847257838678357, 0.9886895318883268, 0.9825411755512942, 0.9921590270090664, 0.7429947094158679, 0.2476649031386226, 0.9955435951363644, 0.9916907345529893, 0.9877596279216047, 0.2814629753365562, 0.5271467588930416, 0.18962971643437473, 0.7233966484043953, 0.2747075880016691, 0.052157277070635374, 0.6743190821275002, 0.17882494995646414, 0.09686351455975141, 0.9909836132022922, 0.9843302770918779, 0.6054586323945864, 0.16075970584270052, 0.10230163099080943, 0.13153066841675498, 0.9943199130970451, 0.993334655599196, 0.2854480475693329, 0.6440879022077255, 0.06587262636215374, 0.9950264034594544, 0.9873876223453779, 0.9851814038534308, 0.989280837086629, 0.8876562353824804, 0.009973665566095285, 0.09973665566095284, 0.9907037241534187, 0.9838865319610356, 0.9951815146744668, 0.3211203520365569, 0.11819012956901052, 0.16056017601827846, 0.2252302469145295, 0.17617019313116664, 0.9880448573850235, 0.9841231065876758, 0.04162068988087504, 0.3543094625756542, 0.34790627951705805, 0.14513881599484632, 0.11098850634900012, 0.26671310118488367, 0.3191812522376477, 0.4153728625010484, 0.9842424634802065, 0.9893066099567127, 0.32297362160687215, 0.6701702648342598, 0.9938436545968872, 0.9902185090974469, 0.9925895184089936, 0.9833739577287802, 0.994280832941568, 0.9921888384057357, 0.9929829997028158, 0.9917789700067347, 0.9830917018065455, 0.9920791557373059, 0.9918824969148295, 0.9914434713415546, 0.8809870375464949, 0.11635677854387667, 0.9310364995681961, 0.0647677564917006, 0.984428961982475, 0.14469515618051548, 0.8459101438245521, 0.9940298495379667, 0.24106398754441843, 0.7499768501381907, 0.9972349285641692, 0.993111201778784, 0.993501895098884, 0.993969432752098, 0.995634820942774, 0.7478370515165826, 0.25040697652591454, 0.601706637363926, 0.20261550033683226, 0.1903357730436909, 0.9994969182950499, 0.9901753245867109, 0.18744821247697233, 0.12607136414380438, 0.31351957662077673, 0.29029590427849694, 0.08294168693671342, 0.17324914891669888, 0.24110506557573927, 0.37248567017090256, 0.12127440424168921, 0.031762343968061456, 0.05774971630556629, 0.24650761734497126, 0.10637673113641913, 0.14013088620855213, 0.20866204953682213, 0.19945637088078588, 0.10023961203239495, 0.9902847381569715, 0.817029288777044, 0.18212417582646181, 0.9910267817566218, 0.9913468306608292, 0.9783417880455233, 0.9872673910781307, 0.9938901075452451, 0.7861261596424065, 0.21394572699128783, 0.9825611537471947, 0.9902658695066676, 0.9929050004426062, 0.9863500922851347, 0.9870111514921974, 0.9895396402947771, 0.9844984860075408, 0.5790990999682539, 0.0639567279081405, 0.18954448452776182, 0.1662874925611653, 0.9907876880292766, 0.4792428886917816, 0.3321875365452623, 0.18775817282993087, 0.9850384243190472, 0.10216732904349478, 0.339938567544719, 0.16532531427038247, 0.2229105360948977, 0.11888561925061211, 0.04829728282056117, 0.9939480703897378, 0.993881940417252, 0.9910024684290802, 0.9858060470400518, 0.9816330103622967, 0.9878877023457178, 0.7493566611663354, 0.24694708152072417, 0.2815793016455043, 0.31677671435119237, 0.17850116443598935, 0.22375498077187397, 0.9814297452327203, 0.9963481795862567, 0.987531748887279, 0.9905049409960625, 0.31991041687379224, 0.2271827598089249, 0.03245467997270356, 0.4172744567919029, 0.13340835188622507, 0.2378148881450099, 0.19141198314110552, 0.4408275975370915, 0.9925560297386221], \"Term\": [\"able\", \"able\", \"able\", \"able\", \"acceptable\", \"accepted\", \"aching\", \"afraid\", \"afraid\", \"agitated\", \"ago\", \"amazing\", \"amazing\", \"angry\", \"angry\", \"angry\", \"anxious\", \"apprehensive\", \"ashamed\", \"away\", \"away\", \"away\", \"away\", \"away\", \"awkward\", \"bad\", \"bad\", \"bed\", \"bit\", \"bit\", \"bitter\", \"blessed\", \"book\", \"book\", \"boy\", \"burdened\", \"care\", \"caring\", \"child\", \"christmas\", \"cold\", \"cold\", \"comfortable\", \"confident\", \"content\", \"cool\", \"cry\", \"curious\", \"d\", \"d\", \"d\", \"damaged\", \"day\", \"day\", \"day\", \"days\", \"deal\", \"defeated\", \"depressed\", \"deprived\", \"didn\", \"dirty\", \"disappointed\", \"discontent\", \"discouraged\", \"disgusted\", \"dissatisfied\", \"distracted\", \"divine\", \"don\", \"doomed\", \"drained\", \"eat\", \"embarrassed\", \"energetic\", \"experience\", \"extremely\", \"eyes\", \"fabulous\", \"face\", \"face\", \"fake\", \"family\", \"family\", \"family\", \"feeling\", \"feeling\", \"feeling\", \"feeling\", \"feelings\", \"feelings\", \"feels\", \"feels\", \"feels\", \"find\", \"find\", \"find\", \"fine\", \"found\", \"found\", \"free\", \"free\", \"free\", \"free\", \"friend\", \"friends\", \"friends\", \"funny\", \"game\", \"generous\", \"gentle\", \"girl\", \"girl\", \"girls\", \"glad\", \"gloomy\", \"going\", \"going\", \"going\", \"good\", \"good\", \"good\", \"good\", \"good\", \"gorgeous\", \"got\", \"got\", \"got\", \"greedy\", \"grumpy\", \"guess\", \"hair\", \"hand\", \"hand\", \"happy\", \"happy\", \"happy\", \"happy\", \"hate\", \"hated\", \"hated\", \"having\", \"having\", \"having\", \"having\", \"hear\", \"heart\", \"heart\", \"help\", \"help\", \"help\", \"hesitant\", \"high\", \"home\", \"home\", \"home\", \"homesick\", \"honored\", \"honoured\", \"hope\", \"hope\", \"hopeful\", \"hopeless\", \"hot\", \"href\", \"http\", \"humiliated\", \"hurt\", \"ignored\", \"important\", \"important\", \"inadequate\", \"incredibly\", \"innocent\", \"insecure\", \"inspired\", \"insulted\", \"irritable\", \"jealous\", \"job\", \"joyful\", \"kinda\", \"know\", \"know\", \"know\", \"lame\", \"lately\", \"left\", \"life\", \"life\", \"life\", \"life\", \"like\", \"like\", \"like\", \"like\", \"like\", \"little\", \"little\", \"little\", \"lonely\", \"longing\", \"look\", \"lot\", \"lot\", \"lot\", \"lot\", \"love\", \"love\", \"love\", \"loved\", \"loved\", \"lovely\", \"low\", \"lucky\", \"m\", \"m\", \"m\", \"m\", \"making\", \"making\", \"making\", \"men\", \"missed\", \"moment\", \"morning\", \"music\", \"naughty\", \"need\", \"need\", \"need\", \"need\", \"needed\", \"needs\", \"needy\", \"nervous\", \"new\", \"new\", \"new\", \"night\", \"nt\", \"nt\", \"nt\", \"nt\", \"offended\", \"oh\", \"ok\", \"outside\", \"overwhelmed\", \"pain\", \"pain\", \"passionate\", \"pathetic\", \"peaceful\", \"people\", \"people\", \"people\", \"perfect\", \"perfect\", \"person\", \"person\", \"person\", \"person\", \"popular\", \"pressured\", \"pretty\", \"pretty\", \"pretty\", \"pretty\", \"problems\", \"punished\", \"real\", \"real\", \"real\", \"reason\", \"reassured\", \"regretful\", \"rejected\", \"remember\", \"remember\", \"remember\", \"resolved\", \"respected\", \"rich\", \"right\", \"right\", \"right\", \"right\", \"right\", \"rude\", \"rushed\", \"s\", \"s\", \"s\", \"s\", \"s\", \"said\", \"said\", \"said\", \"second\", \"selfish\", \"share\", \"share\", \"shitty\", \"simply\", \"sincere\", \"sit\", \"situation\", \"slightly\", \"smart\", \"somewhat\", \"song\", \"sorry\", \"spent\", \"stand\", \"started\", \"started\", \"starting\", \"starting\", \"stay\", \"story\", \"story\", \"strange\", \"strong\", \"strong\", \"stupid\", \"summer\", \"super\", \"support\", \"supporting\", \"sure\", \"sure\", \"sweet\", \"sweet\", \"sweet\", \"t\", \"talented\", \"things\", \"things\", \"things\", \"things\", \"things\", \"think\", \"think\", \"think\", \"think\", \"think\", \"think\", \"time\", \"time\", \"time\", \"time\", \"time\", \"time\", \"tired\", \"today\", \"today\", \"tortured\", \"tried\", \"triumphant\", \"troubled\", \"trust\", \"try\", \"try\", \"uncertain\", \"ungrateful\", \"unimportant\", \"unwelcome\", \"useless\", \"valuable\", \"valued\", \"ve\", \"ve\", \"ve\", \"ve\", \"violent\", \"want\", \"want\", \"want\", \"wasn\", \"way\", \"way\", \"way\", \"way\", \"way\", \"way\", \"week\", \"weird\", \"went\", \"woke\", \"woman\", \"women\", \"wonderful\", \"wonderful\", \"work\", \"work\", \"work\", \"work\", \"worthwhile\", \"write\", \"wrong\", \"www\", \"year\", \"year\", \"year\", \"year\", \"years\", \"years\", \"years\", \"years\", \"young\"]}, \"R\": 30, \"lambda.step\": 0.01, \"plot.opts\": {\"xlab\": \"PC1\", \"ylab\": \"PC2\"}, \"topic.order\": [4, 2, 1, 3, 5, 6]};\n\nfunction LDAvis_load_lib(url, callback){\n  var s = document.createElement('script');\n  s.src = url;\n  s.async = true;\n  s.onreadystatechange = s.onload = callback;\n  s.onerror = function(){console.warn(\"failed to load library \" + url);};\n  document.getElementsByTagName(\"head\")[0].appendChild(s);\n}\n\nif(typeof(LDAvis) !== \"undefined\"){\n   // already loaded: just create the visualization\n   !function(LDAvis){\n       new LDAvis(\"#\" + \"ldavis_el80921401865476336162658137662\", ldavis_el80921401865476336162658137662_data);\n   }(LDAvis);\n}else if(typeof define === \"function\" && define.amd){\n   // require.js is available: use it to load d3/LDAvis\n   require.config({paths: {d3: \"https://d3js.org/d3.v5\"}});\n   require([\"d3\"], function(d3){\n      window.d3 = d3;\n      LDAvis_load_lib(\"https://cdn.jsdelivr.net/gh/bmabey/pyLDAvis@3.3.1/pyLDAvis/js/ldavis.v3.0.0.js\", function(){\n        new LDAvis(\"#\" + \"ldavis_el80921401865476336162658137662\", ldavis_el80921401865476336162658137662_data);\n      });\n    });\n}else{\n    // require.js not available: dynamically load d3 & LDAvis\n    LDAvis_load_lib(\"https://d3js.org/d3.v5.js\", function(){\n         LDAvis_load_lib(\"https://cdn.jsdelivr.net/gh/bmabey/pyLDAvis@3.3.1/pyLDAvis/js/ldavis.v3.0.0.js\", function(){\n                 new LDAvis(\"#\" + \"ldavis_el80921401865476336162658137662\", ldavis_el80921401865476336162658137662_data);\n            })\n         });\n}\n</script>"
     },
     "execution_count": 17,
     "metadata": {},
     "output_type": "execute_result"
    }
   ],
   "source": [
    "import warnings\n",
    "warnings.filterwarnings('ignore')\n",
    "\n",
    "pyLDAvis.enable_notebook()\n",
    "pyLDAvis.gensim_models.prepare(lda, corpus, dictionary)"
   ]
  },
  {
   "cell_type": "code",
   "execution_count": 18,
   "metadata": {},
   "outputs": [
    {
     "name": "stdout",
     "output_type": "stream",
     "text": [
      "X_train shape: (13400,)\n",
      "X_test shape: (6600,)\n"
     ]
    }
   ],
   "source": [
    "X = data['text']\n",
    "\n",
    "le = LabelEncoder()\n",
    "y = le.fit_transform(data['emotion'])\n",
    "class_labels = [le.inverse_transform([i])[0] for i in range(n_classes)]\n",
    "\n",
    "X_train, X_test, y_train, y_test = train_test_split(X, y, test_size=0.33)\n",
    "\n",
    "print('X_train shape:', X_train.shape)\n",
    "print('X_test shape:', X_test.shape)"
   ]
  },
  {
   "cell_type": "code",
   "execution_count": 19,
   "metadata": {
    "pycharm": {
     "name": "#%%\n"
    }
   },
   "outputs": [],
   "source": [
    "vec = TfidfVectorizer(stop_words='english', max_features = 3000, ngram_range = (1, 3))\n",
    "vec.fit(X_train)\n",
    "X_train_vecs = vec.transform(X_train).todense().tolist()\n",
    "X_test_vecs = vec.transform(X_test).todense().tolist()"
   ]
  },
  {
   "cell_type": "code",
   "execution_count": 20,
   "metadata": {
    "pycharm": {
     "name": "#%%\n"
    }
   },
   "outputs": [
    {
     "name": "stdout",
     "output_type": "stream",
     "text": [
      "Accuracy score on train: 0.8862686567164179\n",
      "Accuracy score on test: 0.8534848484848485\n"
     ]
    }
   ],
   "source": [
    "clf = SGDClassifier(max_iter=100, penalty='l1')\n",
    "\n",
    "clf.fit(X_train_vecs, y_train)\n",
    "print(\"Accuracy score on train:\", accuracy_score(y_train, clf.predict(X_train_vecs)))\n",
    "print(\"Accuracy score on test:\", accuracy_score(y_test, clf.predict(X_test_vecs)))"
   ]
  },
  {
   "cell_type": "code",
   "execution_count": null,
   "metadata": {
    "pycharm": {
     "is_executing": true
    }
   },
   "outputs": [],
   "source": [
    "parameters = {\n",
    "    'penalty': ['l1', 'l2', 'elasticnet'],\n",
    "    'alpha': [0.001, 0.005, 0.0001, 0.0005, 0.00001],\n",
    "    'max_iter': [50, 100, 500, 1000]\n",
    "}\n",
    "# parameters = {\n",
    "#     'random_state': [0, 10, 100],\n",
    "#     'loss': ('log', 'hinge'),\n",
    "#     'penalty': ['l1', 'l2', 'elasticnet'],\n",
    "#     'alpha': [0.001, 0.0001],\n",
    "#     'max_iter': [10, 100, 1000,]\n",
    "# }\n",
    "\n",
    "grid_search = GridSearchCV(SGDClassifier(), parameters, scoring='accuracy')\n",
    "grid_search.fit(X_train_vecs, y_train)\n",
    "\n",
    "print(\"Accuracy score on train:\", accuracy_score(y_train, grid_search.predict(X_train_vecs)))\n",
    "print(\"Accuracy score on test:\", accuracy_score(y_test, grid_search.predict(X_test_vecs)))\n",
    "print(\"The best model parameters are:\", grid_search.best_estimator_)"
   ]
  },
  {
   "cell_type": "code",
   "execution_count": 22,
   "metadata": {},
   "outputs": [],
   "source": [
    "class ClassificationRNN(nn.Module):\n",
    "    def __init__(self, input_size, hidden_size, output_size):\n",
    "        super().__init__()\n",
    "        self.hh = nn.Linear(hidden_size, hidden_size)\n",
    "        self.xh = nn.Linear(input_size, hidden_size)\n",
    "        self.hy = nn.Linear(hidden_size, output_size)\n",
    "\n",
    "        self.relu = nn.ReLU()\n",
    "        self.softmax = nn.LogSoftmax(dim=1)\n",
    "\n",
    "        self.hidden_size = hidden_size\n",
    "\n",
    "    def forward(self, x, h):\n",
    "        hidden = self.relu(self.hh(h) + self.xh(x))\n",
    "        output = self.softmax(self.hy(hidden))\n",
    "        return output, hidden\n",
    "\n",
    "    def h0(self):\n",
    "        return torch.zeros(1, self.hidden_size)"
   ]
  },
  {
   "cell_type": "code",
   "execution_count": 23,
   "metadata": {},
   "outputs": [],
   "source": [
    "def process_sequence_classification(rnn, target_tensor, input_tensor, learning_rate):\n",
    "    rnn.zero_grad()\n",
    "    hidden = rnn.h0()\n",
    "\n",
    "    for i in range(input_tensor.size()[0]):\n",
    "        output, hidden = rnn(input_tensor[i], hidden)\n",
    "\n",
    "    loss_function = nn.NLLLoss()\n",
    "    loss = loss_function(output, target_tensor)\n",
    "    loss.backward()\n",
    "\n",
    "    with torch.no_grad():\n",
    "        for parameter in rnn.parameters():\n",
    "            parameter -= learning_rate * parameter.grad\n",
    "\n",
    "    return loss.item()"
   ]
  },
  {
   "cell_type": "code",
   "execution_count": null,
   "metadata": {
    "pycharm": {
     "is_executing": true
    }
   },
   "outputs": [
    {
     "data": {
      "text/plain": "  0%|          | 0/134000 [00:00<?, ?it/s]",
      "application/vnd.jupyter.widget-view+json": {
       "version_major": 2,
       "version_minor": 0,
       "model_id": "f6f7f913a75d447babc4c231937c2276"
      }
     },
     "metadata": {},
     "output_type": "display_data"
    },
    {
     "name": "stdout",
     "output_type": "stream",
     "text": [
      "Intel MKL FATAL ERROR: This system does not meet the minimum requirements for use of the Intel(R) Math Kernel Library.\n",
      "The processor must support the Intel(R) Supplemental Streaming SIMD Extensions 3 (Intel(R) SSSE3) instructions.\n",
      "The processor must support the Intel(R) Streaming SIMD Extensions 4.2 (Intel(R) SSE4.2) instructions.\n",
      "The processor must support the Intel(R) Advanced Vector Extensions (Intel(R) AVX) instructions.\n"
     ]
    },
    {
     "name": "stderr",
     "output_type": "stream",
     "text": [
      "/opt/anaconda3/envs/Emotions-dataset-for-NLP/lib/python3.8/site-packages/past/builtins/misc.py:45: DeprecationWarning: the imp module is deprecated in favour of importlib; see the module's documentation for alternative uses\n",
      "  from imp import reload\n",
      "/opt/anaconda3/envs/Emotions-dataset-for-NLP/lib/python3.8/site-packages/past/builtins/misc.py:45: DeprecationWarning: the imp module is deprecated in favour of importlib; see the module's documentation for alternative uses\n",
      "  from imp import reload\n",
      "/opt/anaconda3/envs/Emotions-dataset-for-NLP/lib/python3.8/site-packages/past/builtins/misc.py:45: DeprecationWarning: the imp module is deprecated in favour of importlib; see the module's documentation for alternative uses\n",
      "  from imp import reload\n",
      "/opt/anaconda3/envs/Emotions-dataset-for-NLP/lib/python3.8/site-packages/past/builtins/misc.py:45: DeprecationWarning: the imp module is deprecated in favour of importlib; see the module's documentation for alternative uses\n",
      "  from imp import reload\n",
      "/opt/anaconda3/envs/Emotions-dataset-for-NLP/lib/python3.8/site-packages/past/builtins/misc.py:45: DeprecationWarning: the imp module is deprecated in favour of importlib; see the module's documentation for alternative uses\n",
      "  from imp import reload\n",
      "/opt/anaconda3/envs/Emotions-dataset-for-NLP/lib/python3.8/site-packages/past/builtins/misc.py:45: DeprecationWarning: the imp module is deprecated in favour of importlib; see the module's documentation for alternative uses\n",
      "  from imp import reload\n",
      "/opt/anaconda3/envs/Emotions-dataset-for-NLP/lib/python3.8/site-packages/past/builtins/misc.py:45: DeprecationWarning: the imp module is deprecated in favour of importlib; see the module's documentation for alternative uses\n",
      "  from imp import reload\n",
      "/opt/anaconda3/envs/Emotions-dataset-for-NLP/lib/python3.8/site-packages/past/builtins/misc.py:45: DeprecationWarning: the imp module is deprecated in favour of importlib; see the module's documentation for alternative uses\n",
      "  from imp import reload\n"
     ]
    }
   ],
   "source": [
    "random.seed(0)\n",
    "\n",
    "n_hidden = 64\n",
    "rnn = ClassificationRNN(len(X_train_vecs[0]), n_hidden, len(set(y_train)))\n",
    "\n",
    "n_iters = 13400 * 10\n",
    "print_every = 1000\n",
    "\n",
    "# Keep track of losses for plotting\n",
    "all_losses = []\n",
    "iterations = []\n",
    "losses = []\n",
    "\n",
    "for i in tqdm(range(1, n_iters + 1)):\n",
    "    # sample categories uniformly\n",
    "    idx = random.randint(0, len(X_train) - 1)\n",
    "    \n",
    "    input_tensor, target_tensor = torch.tensor([X_train_vecs[idx]]), torch.tensor([y_train[idx]])\n",
    "    \n",
    "    # process sequence: update RNN weights and compute loss\n",
    "    loss = process_sequence_classification(rnn, target_tensor, input_tensor, 0.0005)\n",
    "    all_losses.append(loss)\n",
    "\n",
    "    if i % print_every == 0:\n",
    "        iterations.append(i)\n",
    "        avg_loss = np.mean(all_losses[-print_every:])\n",
    "        losses.append(avg_loss)\n",
    "        print(f\"iteration {i}: loss {avg_loss}\")"
   ]
  },
  {
   "cell_type": "code",
   "execution_count": null,
   "metadata": {
    "pycharm": {
     "is_executing": true
    }
   },
   "outputs": [],
   "source": [
    "plt.title('loss in terms of number of iterations')\n",
    "plt.plot(iterations, losses)\n",
    "plt.show()"
   ]
  },
  {
   "cell_type": "code",
   "execution_count": null,
   "metadata": {
    "pycharm": {
     "is_executing": true
    }
   },
   "outputs": [],
   "source": [
    "def evaluate(rnn, name_tensor):\n",
    "    hidden = rnn.h0()\n",
    "\n",
    "    for i in range(name_tensor.size()[0]):\n",
    "        output, hidden = rnn(name_tensor[i], hidden)\n",
    "    \n",
    "    return output\n",
    "\n",
    "def predict(input_vec, n_predictions=1):\n",
    "    with torch.no_grad():\n",
    "        output = evaluate(rnn, torch.tensor(input_vec))\n",
    "\n",
    "        # Get top N categories\n",
    "        topv, topi = output.topk(n_predictions, 1, True)\n",
    "        predictions = []\n",
    "\n",
    "        for i in range(n_predictions):\n",
    "            value = topv[0][i].item()\n",
    "            category_index = topi[0][i].item()\n",
    "            print('(%.2f) %s' % (value, le.inverse_transform([category_index])))\n",
    "            predictions.append([value, le.inverse_transform([category_index])])"
   ]
  },
  {
   "cell_type": "code",
   "execution_count": null,
   "metadata": {
    "pycharm": {
     "is_executing": true
    }
   },
   "outputs": [],
   "source": [
    "# for i in range(100):\n",
    "#     print(predict([X_test_vecs[i]]), le.inverse_transform([y_test[i]]))"
   ]
  }
 ],
 "metadata": {
  "kernelspec": {
   "display_name": "Python 3 (ipykernel)",
   "language": "python",
   "name": "python3"
  },
  "language_info": {
   "codemirror_mode": {
    "name": "ipython",
    "version": 3
   },
   "file_extension": ".py",
   "mimetype": "text/x-python",
   "name": "python",
   "nbconvert_exporter": "python",
   "pygments_lexer": "ipython3",
   "version": "3.8.8"
  }
 },
 "nbformat": 4,
 "nbformat_minor": 1
}